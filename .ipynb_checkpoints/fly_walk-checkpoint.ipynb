{
 "cells": [
  {
   "cell_type": "code",
   "execution_count": null,
   "metadata": {
    "scrolled": false
   },
   "outputs": [],
   "source": [
    "import numpy as np\n",
    "import matplotlib\n",
    "import matplotlib.pyplot as plt\n",
    "import glob\n",
    "import os.path\n",
    "import pandas as pd\n",
    "%matplotlib inline  \n",
    "\n",
    "data = np.genfromtxt('D:\\Behavioral_project\\Behavior Experiment Data\\Sorted_data_experimenter\\JD\\CS\\CSV\\ProcessedData_Fly256_E1_M_2018June7.csv',\n",
    "                     delimiter=',', names = ['Location','Laser_Status'], skip_header=1\n",
    "                    )\n",
    "\n",
    "positions = [datum[0] for datum in data] # List comprehension\n",
    "times = np.array(range(len(positions)))\n",
    "times = times / 50 # Converting frames to seconds"
   ]
  },
  {
   "cell_type": "code",
   "execution_count": null,
   "metadata": {},
   "outputs": [],
   "source": [
    "plt.figure()\n",
    "plt.plot(times[0:29999], positions[0:29999], 'k') #Plotting only the first 10 minutes' recording\n",
    "plt.xlabel('Time (sec)')\n",
    "plt.ylabel('Position in Chamber(pixel)')\n",
    "plt.title(\"Fly_2256\")\n",
    "plt.savefig(\"foo.pdf\", bbox_inches='tight')\n",
    "\n",
    "# plt.show()"
   ]
  },
  {
   "cell_type": "code",
   "execution_count": null,
   "metadata": {},
   "outputs": [],
   "source": [
    "E1_csv_files = []\n",
    "for experimenter in ['JD','ES','SW','RS']:\n",
    "    for type in ['CS','Mutants']:\n",
    "        data_folder = os.path.join(\"D:\\Behavioral_project\\Behavior Experiment Data\\Sorted_data_experimenter\",\n",
    "                          experimenter,\n",
    "                          type,\n",
    "                          \"CSV\")\n",
    "        file_to_open = os.path.join(data_folder, \n",
    "                                    \"*_E1_*.csv\")    \n",
    "        E1_csv_files.extend(glob.glob(file_to_open))\n",
    "len(E1_csv_files)"
   ]
  },
  {
   "cell_type": "code",
   "execution_count": null,
   "metadata": {},
   "outputs": [],
   "source": [
    "i = 1\n",
    "E1_csv_files[1]\n",
    "data = np.genfromtxt(E1_csv_files[1],\n",
    "                     delimiter=',', names = ['Location','Laser_Status'], skip_header=1\n",
    "                    )\n",
    "positions = [datum[0] for datum in data]\n",
    "times = np.array(range(len(positions)))\n",
    "times = times / 50 # Converting frames to seconds\n"
   ]
  },
  {
   "cell_type": "code",
   "execution_count": null,
   "metadata": {},
   "outputs": [],
   "source": [
    "for i in E1_csv_files:\n",
    "    print(i)\n",
    "    data = np.genfromtxt(i,\n",
    "                     delimiter=',', names = ['Location','Laser_Status'], skip_header=1\n",
    "                    )\n",
    "    positions = [datum[0] for datum in data] # List comprehension\n",
    "    times = np.array(range(len(positions)))\n",
    "    times = times / 50 # Converting frames to seconds\n",
    "    plt.figure()\n",
    "    plt.plot(times[0:29999], positions[0:29999], 'k') #Plotting only the first 10 minutes' recording\n",
    "    plt.xlabel('Time (sec)')\n",
    "    plt.ylabel('Position in Chamber(pixel)')\n",
    "    plt.title(i)\n",
    "#     plt.savefig(\"foo.pdf\", bbox_inches='tight')\n"
   ]
  },
  {
   "cell_type": "code",
   "execution_count": null,
   "metadata": {},
   "outputs": [],
   "source": [
    "# glob.glob('145592*.jpg')\n",
    "# \"\"\n",
    "len(glob.glob('D:\\Behavioral_project\\Behavior Experiment Data\\Sorted_data_experimenter\\JD\\CS\\CSV\\*_E1_*.csv'))\n",
    "\n",
    "source_folder = \"D:/Behavioral_project/Behavior Experiment Data/Sorted_data_experimenter/\"\n",
    "experimenter = \"JD\"\n",
    "star_path = source_folder + experimenter\n",
    "star_path"
   ]
  },
  {
   "cell_type": "code",
   "execution_count": null,
   "metadata": {},
   "outputs": [],
   "source": [
    "import csv\n",
    "\n",
    "with open('D:\\Behavioral_project\\Behavior Experiment Data\\Sorted_data_experimenter\\JD\\CS\\CSV\\ProcessedData_Fly256_E1_M_2018June7.csv') as csvfile:\n",
    "    reader = csv.reader(csvfile, delimiter=',')\n",
    "    reader\n",
    "    \n",
    "    #for row in reader:\n",
    "        #print(row)\n",
    "        #print(column[0])\n",
    "        #print(column[0],column[1])"
   ]
  },
  {
   "cell_type": "code",
   "execution_count": null,
   "metadata": {},
   "outputs": [],
   "source": [
    "##R code copied \n",
    "#input.file <- list.files(path = paste0(\"data/\", fly.info$experimenter[ind], \"/mutants/\"),                             \n",
    "#                             pattern = paste0(\"ProcessedData_Fly\",fly.info$Fly[ind],\n",
    "#                                              \"_\",query.sessions[ind.session],\n",
    "#                                              \"_\",fly.info$Genotype[ind],\n",
    "#                                              \".csv\"),\n",
    "#                             full.names=T\n",
    "#    )"
   ]
  },
  {
   "cell_type": "code",
   "execution_count": null,
   "metadata": {},
   "outputs": [],
   "source": [
    "data = np.genfromtxt('D:\\Behavioral_project\\Behavior Experiment Data\\Sorted_data_experimenter\\JD\\CS\\CSV\\ProcessedData_Fly256_E1_M_2018June7.csv',\n",
    "                     delimiter=',', names = ['Location','Laser_Status'], skip_header=1\n",
    "                    )"
   ]
  },
  {
   "cell_type": "code",
   "execution_count": null,
   "metadata": {},
   "outputs": [],
   "source": [
    "import os\n",
    "\n",
    "os.path.join('a', 'b', 'c')\n"
   ]
  },
  {
   "cell_type": "code",
   "execution_count": null,
   "metadata": {},
   "outputs": [],
   "source": [
    "first_column = [datum[0] for datum in data] # List comprehension\n",
    "print(first_column)"
   ]
  }
 ],
 "metadata": {
  "kernelspec": {
   "display_name": "Python 3",
   "language": "python",
   "name": "python3"
  },
  "language_info": {
   "codemirror_mode": {
    "name": "ipython",
    "version": 3
   },
   "file_extension": ".py",
   "mimetype": "text/x-python",
   "name": "python",
   "nbconvert_exporter": "python",
   "pygments_lexer": "ipython3",
   "version": "3.6.6"
  }
 },
 "nbformat": 4,
 "nbformat_minor": 2
}
