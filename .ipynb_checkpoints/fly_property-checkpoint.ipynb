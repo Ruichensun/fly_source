{
 "cells": [
  {
   "cell_type": "code",
   "execution_count": 11,
   "metadata": {},
   "outputs": [],
   "source": [
    "import numpy as np\n",
    "import csv\n",
    "import os"
   ]
  },
  {
   "cell_type": "code",
   "execution_count": null,
   "metadata": {},
   "outputs": [],
   "source": [
    "fout = open(\"out_test.csv\",\"a\")\n",
    "# first file:\n",
    "for line in open(\"sh1.csv\"):\n",
    "    fout.write(line)\n",
    "\n",
    "for line in open(\"sh1.csv\"):\n",
    "    fout.write(line)\n",
    "    \n",
    "for line in open(\"sh1.csv\"):\n",
    "    fout.write(line)\n",
    "# now the rest:    \n",
    "for num in range(2,201):\n",
    "    f = open(\"sh\"+str(num)+\".csv\")\n",
    "    f.next() # skip the header\n",
    "    for line in f:\n",
    "         fout.write(line)\n",
    "    f.close() # not really needed\n",
    "fout.close()"
   ]
  },
  {
   "cell_type": "code",
   "execution_count": 21,
   "metadata": {},
   "outputs": [],
   "source": [
    "class Fly:\n",
    "    def __init__(self):\n",
    "        self.ingest_fly_info\n",
    "    \n",
    "    def ingest_fly_info(self, data):\n",
    "        self.fly_id = data[0]\n",
    "        self.fly = data[1]\n",
    "        self.genotype = data[2]\n",
    "        self.gender = data[3]\n",
    "        self.category = data[4]\n",
    "        self.setup = data[5]\n",
    "        self.birth_date = data[6]\n",
    "        self.exp_date = data[7]\n",
    "        self.death_date = data[8]\n",
    "        self.age = data[9]\n",
    "        self.humidity = data[10]\n",
    "        self.note_before = data[11]\n",
    "        self.frame_rate = data[12]\n",
    "        self.led_intensity = data[13]\n",
    "        self.noise_filter = data[14]\n",
    "        self.laser_intensity = data[15]\n",
    "        self.load_time = data[16]\n",
    "        self.cond_start_1 = data[17]\n",
    "        self.cond_end_1 = data[18]\n",
    "        self.behavior_1 = data[19]\n",
    "        self.cond_start_2 = data[20]\n",
    "        self.cond_end_2 = data[21]\n",
    "        self.num_clicks_2 = data[22]\n",
    "        self.behavior_2 = data[23]\n",
    "        self.cond_start_3 = data[24]\n",
    "        self.cond_end_3 = data[25]\n",
    "        self.behavior_3\t = data[26]\n",
    "        self.cond_start_4 = data[27]\n",
    "        self.cond_end_4 = data[28]\n",
    "        self.num_clicks_4 = data[29]\n",
    "        self.behavior_4 = data[30]\n",
    "        self.cond_start_5 = data[31]\n",
    "        self.cond_end_5 = data[32]\n",
    "        self.behavior_5 = data[33]\n",
    "        self.cond_start_6 = data[34]\n",
    "        self.cond_end_6 = data[35]\n",
    "        self.num_clicks_6 = data[36]\n",
    "        self.behavior_6 = data[37]\n",
    "        self.cond_start_7 = data[38]\n",
    "        self.cond_end_7 = data[39]\n",
    "        self.behavior_7 = data[40]\n",
    "        self.cond_start_8 = data[41]\n",
    "        self.cond_end_8 = data[42]\n",
    "        self.num_clicks_8 = data[43]\n",
    "        self.behavior_8 = data[44]\n",
    "        self.cond_start_9 = data[45]\n",
    "        self.cond_end_9 = data[46]\n",
    "        self.behavior_9 = data[47]\n",
    "        self.whereabouts = data[48]\n",
    "        self.exit_duration = data[49]\n",
    "        self.behavior_10 = data[50]\n",
    "        self.notes_after = data[51]"
   ]
  },
  {
   "cell_type": "code",
   "execution_count": 32,
   "metadata": {},
   "outputs": [],
   "source": [
    "# Ingest data\n",
    "flies_dict = {}\n",
    "fly_info_path = os.path.join( \"D:\\Behavioral_project\", \"Behavior Experiment Data\", \"Analysis\", \"fly_info\\\\\")\n",
    "with open(os.path.join(fly_info_path, 'ES_Mutants.csv'), 'r') as f:\n",
    "    csv_reader = csv.reader(f)\n",
    "    next(csv_reader)  # skip first line\n",
    "    for row in csv_reader:\n",
    "        fly = Fly()\n",
    "        fly.ingest_fly_info(row)\n",
    "        flies_dict[fly.fly_id] = fly\n",
    "\n",
    "with open(os.path.join(fly_info_path, 'JD_Mutants.csv'), 'r') as f:\n",
    "    csv_reader = csv.reader(f)\n",
    "    next(csv_reader)  # skip first line\n",
    "    for row in csv_reader:\n",
    "        fly = Fly()\n",
    "        fly.ingest_fly_info(row)\n",
    "        flies_dict[fly.fly_id] = fly\n",
    "\n",
    "with open(os.path.join(fly_info_path, 'ES_WT.csv'), 'r') as f:\n",
    "    csv_reader = csv.reader(f)\n",
    "    next(csv_reader)  # skip first line\n",
    "    for row in csv_reader:\n",
    "        fly = Fly()\n",
    "        fly.ingest_fly_info(row)\n",
    "        flies_dict[fly.fly_id] = fly\n",
    "\n",
    "with open(os.path.join(fly_info_path, 'JD_WT.csv'), 'r') as f:\n",
    "    csv_reader = csv.reader(f)\n",
    "    next(csv_reader)  # skip first line\n",
    "    for row in csv_reader:\n",
    "        fly = Fly()\n",
    "        fly.ingest_fly_info(row)\n",
    "        flies_dict[fly.fly_id] = fly"
   ]
  },
  {
   "cell_type": "code",
   "execution_count": 33,
   "metadata": {},
   "outputs": [
    {
     "data": {
      "text/plain": [
       "2572"
      ]
     },
     "execution_count": 33,
     "metadata": {},
     "output_type": "execute_result"
    }
   ],
   "source": [
    "len(flies_dict)"
   ]
  },
  {
   "cell_type": "code",
   "execution_count": 7,
   "metadata": {},
   "outputs": [
    {
     "data": {
      "text/plain": [
       "['ES_Mutants.csv', 'ES_WT.csv', 'JD_Mutants.csv', 'JD_WT.csv']"
      ]
     },
     "execution_count": 7,
     "metadata": {},
     "output_type": "execute_result"
    }
   ],
   "source": []
  }
 ],
 "metadata": {
  "kernelspec": {
   "display_name": "Python 3",
   "language": "python",
   "name": "python3"
  },
  "language_info": {
   "codemirror_mode": {
    "name": "ipython",
    "version": 3
   },
   "file_extension": ".py",
   "mimetype": "text/x-python",
   "name": "python",
   "nbconvert_exporter": "python",
   "pygments_lexer": "ipython3",
   "version": "3.6.6"
  }
 },
 "nbformat": 4,
 "nbformat_minor": 2
}
