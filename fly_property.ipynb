{
 "cells": [
  {
   "cell_type": "code",
   "execution_count": 11,
   "metadata": {},
   "outputs": [],
   "source": [
    "import numpy as np\n",
    "import csv\n",
    "import os"
   ]
  },
  {
   "cell_type": "code",
   "execution_count": 101,
   "metadata": {},
   "outputs": [],
   "source": [
    "class Fly:\n",
    "    def __init__(self):\n",
    "        self.movement_data = [None] * 9\n",
    "    \n",
    "    def ingest_fly_info(self, data):\n",
    "        self.fly_id = data[0]\n",
    "        self.fly = data[1]\n",
    "        self.genotype = data[2]\n",
    "        self.gender = data[3]\n",
    "        self.category = data[4]\n",
    "        self.setup = data[5]\n",
    "        self.birth_date = data[6]\n",
    "        self.exp_date = data[7]\n",
    "        self.death_date = data[8]\n",
    "        self.age = data[9]\n",
    "        self.humidity = data[10]\n",
    "        self.note_before = data[11]\n",
    "        self.frame_rate = data[12]\n",
    "        self.led_intensity = data[13]\n",
    "        self.noise_filter = data[14]\n",
    "        self.laser_intensity = data[15]\n",
    "        self.load_time = data[16]\n",
    "        self.cond_start_1 = data[17]\n",
    "        self.cond_end_1 = data[18]\n",
    "        self.behavior_1 = data[19]\n",
    "        self.cond_start_2 = data[20]\n",
    "        self.cond_end_2 = data[21]\n",
    "        self.num_clicks_2 = data[22]\n",
    "        self.behavior_2 = data[23]\n",
    "        self.cond_start_3 = data[24]\n",
    "        self.cond_end_3 = data[25]\n",
    "        self.behavior_3\t = data[26]\n",
    "        self.cond_start_4 = data[27]\n",
    "        self.cond_end_4 = data[28]\n",
    "        self.num_clicks_4 = data[29]\n",
    "        self.behavior_4 = data[30]\n",
    "        self.cond_start_5 = data[31]\n",
    "        self.cond_end_5 = data[32]\n",
    "        self.behavior_5 = data[33]\n",
    "        self.cond_start_6 = data[34]\n",
    "        self.cond_end_6 = data[35]\n",
    "        self.num_clicks_6 = data[36]\n",
    "        self.behavior_6 = data[37]\n",
    "        self.cond_start_7 = data[38]\n",
    "        self.cond_end_7 = data[39]\n",
    "        self.behavior_7 = data[40]\n",
    "        self.cond_start_8 = data[41]\n",
    "        self.cond_end_8 = data[42]\n",
    "        self.num_clicks_8 = data[43]\n",
    "        self.behavior_8 = data[44]\n",
    "        self.cond_start_9 = data[45]\n",
    "        self.cond_end_9 = data[46]\n",
    "        self.behavior_9 = data[47]\n",
    "        self.whereabouts = data[48]\n",
    "        self.exit_duration = data[49]\n",
    "        self.behavior_10 = data[50]\n",
    "        self.notes_after = data[51]\n",
    "  \n",
    "    def ingest_time_series(self, data1, data2, data3, data4, data5, data6, data7, data8, data9):\n",
    "        self.sequence_1 = np.array(data1)\n",
    "        self.sequence_2 = np.array(data2)\n",
    "        self.sequence_3 = np.array(data3)\n",
    "        self.sequence_4 = np.array(data4)\n",
    "        self.sequence_5 = np.array(data5)\n",
    "        self.sequence_6 = np.array(data6)\n",
    "        self.sequence_7 = np.array(data7)\n",
    "        self.sequence_8 = np.array(data8)\n",
    "        self.sequence_9 = np.array(data9)"
   ]
  },
  {
   "cell_type": "code",
   "execution_count": 90,
   "metadata": {},
   "outputs": [],
   "source": [
    "# Ingest fly info data\n",
    "flies_dict = {}\n",
    "fly_info_path = os.path.join( \"D:\\Behavioral_project\", \"Behavior Experiment Data\", \"Analysis\", \"fly_info\\\\\")\n",
    "with open(os.path.join(fly_info_path, 'ES_Mutants.csv'), 'r') as f:\n",
    "    csv_reader = csv.reader(f)\n",
    "    next(csv_reader)  # skip first line\n",
    "    for row in csv_reader:\n",
    "        fly = Fly()\n",
    "        fly.ingest_fly_info(row)\n",
    "        flies_dict[fly.fly_id] = fly\n",
    "\n",
    "with open(os.path.join(fly_info_path, 'JD_Mutants.csv'), 'r') as f:\n",
    "    csv_reader = csv.reader(f)\n",
    "    next(csv_reader)  # skip first line\n",
    "    for row in csv_reader:\n",
    "        fly = Fly()\n",
    "        fly.ingest_fly_info(row)\n",
    "        flies_dict[fly.fly_id] = fly\n",
    "\n",
    "with open(os.path.join(fly_info_path, 'ES_WT.csv'), 'r') as f:\n",
    "    csv_reader = csv.reader(f)\n",
    "    next(csv_reader)  # skip first line\n",
    "    for row in csv_reader:\n",
    "        fly = Fly()\n",
    "        fly.ingest_fly_info(row)\n",
    "        flies_dict[fly.fly_id] = fly\n",
    "\n",
    "with open(os.path.join(fly_info_path, 'JD_WT.csv'), 'r') as f:\n",
    "    csv_reader = csv.reader(f)\n",
    "    next(csv_reader)  # skip first line\n",
    "    for row in csv_reader:\n",
    "        fly = Fly()\n",
    "        fly.ingest_fly_info(row)\n",
    "        flies_dict[fly.fly_id] = fly\n",
    "        \n",
    "# Need to add other experimenters data"
   ]
  },
  {
   "cell_type": "code",
   "execution_count": 102,
   "metadata": {},
   "outputs": [
    {
     "data": {
      "text/plain": [
       "2572"
      ]
     },
     "execution_count": 102,
     "metadata": {},
     "output_type": "execute_result"
    }
   ],
   "source": [
    "len(flies_dict)"
   ]
  },
  {
   "cell_type": "code",
   "execution_count": 103,
   "metadata": {},
   "outputs": [
    {
     "data": {
      "text/plain": [
       "<__main__.Fly at 0xba196442b0>"
      ]
     },
     "execution_count": 103,
     "metadata": {},
     "output_type": "execute_result"
    }
   ],
   "source": [
    "data_source_folder = os.path.join(\"D:\\Behavioral_project\\Behavior Experiment Data\\Sorted_data_experimenter\")\n",
    "test = fly.ingest_time_series(data1=os.path.join(data_source_folder,\n",
    "                              experimenter,\n",
    "                              type,\n",
    "                              \"CSV\"))"
   ]
  },
  {
   "cell_type": "code",
   "execution_count": 87,
   "metadata": {},
   "outputs": [],
   "source": [
    "data = np.genfromtxt('D:\\Behavioral_project\\Behavior Experiment Data\\Sorted_data_experimenter\\JD\\CS\\CSV\\ProcessedData_Fly256_E1_M_2018June7.csv',\n",
    "                     delimiter=',', names = ['Location','Laser_Status'], skip_header=1\n",
    "                    )\n",
    "\n",
    "positions = [datum[0] for datum in data] # List comprehension\n",
    "times = np.array(range(len(positions)))\n",
    "times = times / 50 # Converting frames to seconds\n",
    "\n",
    "class AAA:   \n",
    "    def __init__(self, data, data2):\n",
    "        self.sequence = np.array(data)\n",
    "        self.sequence_2 = data2"
   ]
  },
  {
   "cell_type": "code",
   "execution_count": 88,
   "metadata": {},
   "outputs": [
    {
     "data": {
      "text/plain": [
       "numpy.ndarray"
      ]
     },
     "execution_count": 88,
     "metadata": {},
     "output_type": "execute_result"
    }
   ],
   "source": [
    "aaa = AAA(positions,times)\n",
    "type(aaa.sequence)"
   ]
  },
  {
   "cell_type": "code",
   "execution_count": 100,
   "metadata": {},
   "outputs": [
    {
     "name": "stdout",
     "output_type": "stream",
     "text": [
      "256\n",
      "256\n",
      "256\n",
      "256\n"
     ]
    }
   ],
   "source": [
    "for experimenter in ['JD','ES','SW','RS']:\n",
    "    for type in ['CS','Mutants']:\n",
    "        if type == 'CS':\n",
    "            genotype = 'WT'\n",
    "            data_folder = os.path.join(\"D:\\Behavioral_project\\Behavior Experiment Data\\Sorted_data_experimenter\",\n",
    "                              experimenter,\n",
    "                              type,\n",
    "                              \"CSV\")\n",
    "#             file_to_open = os.path.join(data_folder, \n",
    "#                                         \"*_E1_*.csv\")\n",
    "            file_to_open = fly.fly_id.split(\"_\")[0]\n",
    "            \n",
    "        print(file_to_open)\n",
    "        break\n",
    "        E1_csv_files.extend(glob.glob(file_to_open))"
   ]
  },
  {
   "cell_type": "code",
   "execution_count": null,
   "metadata": {},
   "outputs": [],
   "source": []
  },
  {
   "cell_type": "code",
   "execution_count": 97,
   "metadata": {},
   "outputs": [
    {
     "data": {
      "text/plain": [
       "'256'"
      ]
     },
     "execution_count": 97,
     "metadata": {},
     "output_type": "execute_result"
    }
   ],
   "source": [
    "fly.fly_id.split(\"_\")[0]"
   ]
  }
 ],
 "metadata": {
  "kernelspec": {
   "display_name": "Python 3",
   "language": "python",
   "name": "python3"
  },
  "language_info": {
   "codemirror_mode": {
    "name": "ipython",
    "version": 3
   },
   "file_extension": ".py",
   "mimetype": "text/x-python",
   "name": "python",
   "nbconvert_exporter": "python",
   "pygments_lexer": "ipython3",
   "version": "3.6.6"
  }
 },
 "nbformat": 4,
 "nbformat_minor": 2
}
